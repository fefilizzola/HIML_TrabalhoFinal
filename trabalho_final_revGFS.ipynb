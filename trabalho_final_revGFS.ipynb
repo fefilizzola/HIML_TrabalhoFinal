{
 "cells": [
  {
   "cell_type": "markdown",
   "metadata": {},
   "source": [
    "# Código"
   ]
  },
  {
   "cell_type": "code",
   "execution_count": 1,
   "metadata": {},
   "outputs": [
    {
     "name": "stderr",
     "output_type": "stream",
     "text": [
      "c:\\Program Files\\Python38\\lib\\site-packages\\statsmodels\\compat\\pandas.py:65: FutureWarning: pandas.Int64Index is deprecated and will be removed from pandas in a future version. Use pandas.Index with the appropriate dtype instead.\n",
      "  from pandas import Int64Index as NumericIndex\n"
     ]
    }
   ],
   "source": [
    "import pandas as pd\n",
    "import sklearn\n",
    "import scipy.io as sio\n",
    "import numpy as np\n",
    "from os import getcwd\n",
    "from os.path import join \n",
    "import matplotlib.pyplot as plt\n",
    "from scipy.fftpack import rfft, rfftfreq\n",
    "from lvm_read import read\n",
    "from sklearn.datasets import make_regression, make_classification, make_blobs\n",
    "from sklearn import linear_model, decomposition, preprocessing,metrics, model_selection\n",
    "from sklearn.model_selection import train_test_split\n",
    "from sklearn.preprocessing import MinMaxScaler\n",
    "from sklearn.decomposition import PCA\n",
    "from sklearn.linear_model import LogisticRegression\n",
    "from statsmodels.tsa.holtwinters import SimpleExpSmoothing, Holt\n",
    "import statsmodels.api as sm\n",
    "from statsmodels.tsa.ar_model import AutoReg\n",
    "from statsmodels.tsa.stattools import adfuller\n",
    "from statsmodels.graphics.tsaplots import plot_pacf\n",
    "import statsmodels.api as sm\n",
    "from statsmodels.graphics import tsaplots\n",
    "import matplotlib.pyplot as plt\n",
    "from sklearn import metrics\n",
    "from statsmodels.tsa.arima_model import ARIMA\n",
    "import seaborn as sns\n",
    "from tqdm.notebook import tqdm_notebook as tqdm\n",
    "import seaborn as sns\n",
    "from sklearn.manifold import TSNE\n",
    "import warnings\n",
    "warnings.filterwarnings('ignore')"
   ]
  },
  {
   "cell_type": "code",
   "execution_count": 41,
   "metadata": {},
   "outputs": [
    {
     "data": {
      "application/vnd.jupyter.widget-view+json": {
       "model_id": "44378d3fbc7d47efad8c44dd4d693992",
       "version_major": 2,
       "version_minor": 0
      },
      "text/plain": [
       "Case R:   0%|          | 0/20 [00:00<?, ?it/s]"
      ]
     },
     "metadata": {},
     "output_type": "display_data"
    },
    {
     "data": {
      "application/vnd.jupyter.widget-view+json": {
       "model_id": "24a4f732bed1425c8d6aa2b381ab9909",
       "version_major": 2,
       "version_minor": 0
      },
      "text/plain": [
       "Case H:   0%|          | 0/20 [00:00<?, ?it/s]"
      ]
     },
     "metadata": {},
     "output_type": "display_data"
    },
    {
     "data": {
      "application/vnd.jupyter.widget-view+json": {
       "model_id": "b09c0a46aecd4b9cb80cb98b0585a4fe",
       "version_major": 2,
       "version_minor": 0
      },
      "text/plain": [
       "Case L:   0%|          | 0/20 [00:00<?, ?it/s]"
      ]
     },
     "metadata": {},
     "output_type": "display_data"
    }
   ],
   "source": [
    "df=[]\n",
    "df_all=[]\n",
    "df_act=[]\n",
    "cn=[]\n",
    "cn_all=[]\n",
    "#Params Calculo da FFT\n",
    "Ts = 6 * 1e-4 # sampling time\n",
    "sample_rate=1666 #Hertz\n",
    "time = (np.linspace(1,sample_rate,sample_rate) - 1) * Ts\n",
    "sample_size = len(time)\n",
    "x = rfftfreq(sample_size, 1 / sample_rate)\n",
    "#Params Download Data.\n",
    "\n",
    "case_scheme = [\"R\",\"H\",\"L\"]\n",
    "CH_numbers = 8\n",
    "\n",
    "\n",
    "for jj, case in enumerate(case_scheme):\n",
    "    for i in tqdm(range (1,21),desc=f\"Case {case}\"):\n",
    "        if i>20:\n",
    "            ij=i-20\n",
    "            sensor_scheme=\"2\"\n",
    "        else:\n",
    "            ij=i\n",
    "            sensor_scheme =\"1\" # Sensor Scheme Choosed\n",
    "\n",
    "        string=\"white_noise_\"+str(ij)+\".lvm\"\n",
    "        try:\n",
    "            d=read(join(getcwd(),f'Case_{case}_(+25)/Case_{case}_(+25)_{sensor_scheme}/',string))\n",
    "            \n",
    "            d[0]['Channel names'].pop()\n",
    "            df=pd.DataFrame(d[0]['data'],columns=d[0]['Channel names'])\n",
    "            df_freq = []\n",
    "            for ii in range(1,CH_numbers+1):\n",
    "                channel_name = f\"Ch{ii}\"\n",
    "                sensor_data = df[channel_name]\n",
    "                normalized_sensor = np.int16(((sensor_data-sensor_data.mean())/ sensor_data.max()) * 32767) # Constant 32767 due to 16int max bit size\n",
    "                df_freq_act=(np.abs(rfft(normalized_sensor,n=sample_rate)[1:])**2)/(x[1:]*32767)\n",
    "\n",
    "                if ii==1 or df_freq==[]:\n",
    "                    df_freq=df_freq_act\n",
    "                else:\n",
    "                    df_freq=np.concatenate([df_freq, df_freq_act])\n",
    "            if i==1:\n",
    "                df_act=np.reshape(df_freq,(1,-1))\n",
    "                cn = pd.DataFrame([f\"{sensor_scheme}_{case}_{str(ij)}_target_{str(jj+1)}\"],columns=['case'])\n",
    "            else:\n",
    "                df_act=np.row_stack([df_act,np.reshape(df_freq,(1,-1))])\n",
    "                cn = pd.concat([cn,pd.DataFrame([f\"{sensor_scheme}_{case}_{str(ij)}_target_{str(jj+1)}\"],columns=['case'])])\n",
    "        except:\n",
    "            continue\n",
    "    df_act=pd.DataFrame(df_act)\n",
    "    N,Chno=df_act.shape\n",
    "    y_act=pd.DataFrame(N*[f'{jj+1}'],columns=['target'])\n",
    "\n",
    "    if jj == 0:\n",
    "        df_all = df_act\n",
    "        y_all = y_act\n",
    "        cn_all = cn\n",
    "    else:\n",
    "        df_all=pd.concat([df_all,df_act],axis=0,ignore_index=True)\n",
    "        y_all=pd.concat([y_all,y_act],axis=0,ignore_index=True)\n",
    "        cn_all=pd.concat([cn_all,cn],axis=0,ignore_index=True)\n"
   ]
  },
  {
   "cell_type": "code",
   "execution_count": 42,
   "metadata": {},
   "outputs": [
    {
     "data": {
      "text/plain": [
       "target\n",
       "2         24\n",
       "1         20\n",
       "3          5\n",
       "dtype: int64"
      ]
     },
     "execution_count": 42,
     "metadata": {},
     "output_type": "execute_result"
    }
   ],
   "source": [
    "#plt.semilogy(x[1:],abs(df_freq_act))\n",
    "\n",
    "y_all.value_counts()\n"
   ]
  },
  {
   "cell_type": "code",
   "execution_count": null,
   "metadata": {},
   "outputs": [],
   "source": [
    "# PCA\n",
    "\n",
    "pca = PCA().fit(df_all.to_numpy())\n",
    "plt.rcParams[\"figure.figsize\"] = (12,6)\n",
    "fig, ax = plt.subplots()\n",
    "yi = np.cumsum(pca.explained_variance_ratio_)\n",
    "xi = np.arange(1, np.size(yi)+1, step=1)\n",
    "\n",
    "plt.ylim(0.0,1.1)\n",
    "plt.plot(xi, yi, linestyle='--', color='b')\n",
    "\n",
    "plt.xlabel('Number of Components')\n",
    "plt.xticks(np.arange(0, np.size(yi)+1, step=1)) #change from 0-based array index to 1-based human-readable label\n",
    "plt.ylabel('Cumulative variance (%)')\n",
    "plt.title('The number of components needed to explain variance')\n",
    "\n",
    "plt.axhline(y=0.95, color='r', linestyle='-')\n",
    "plt.text(0.5, 0.85, '95% cut-off threshold', color = 'red', fontsize=14)\n",
    "plt.axhline(y=0.99, color='g', linestyle='-')\n",
    "plt.text(0.5, 0.95, '99% cut-off threshold', color = 'green', fontsize=14)\n",
    "plt.axhline(y=0.80, color='black', linestyle='-')\n",
    "plt.text(0.5, 0.75, '80% cut-off threshold', color = 'black', fontsize=14)\n",
    "\n",
    "ax.grid(axis='x')\n",
    "plt.show()"
   ]
  },
  {
   "cell_type": "code",
   "execution_count": null,
   "metadata": {},
   "outputs": [],
   "source": [
    "df_all_PCA = pd.DataFrame(PCA(n_components=7).fit_transform(df_all.to_numpy()))#,columns=[f'{x} Component' for x in range(1,np.size(yi)+1)])\n",
    "df_parallel = pd.concat([df_all_PCA,y_all],axis=1)\n",
    "import plotly.express as px\n",
    "fig = pd.plotting.parallel_coordinates(df_parallel,\"target\",color=[\"lime\", \"tomato\",\"dodgerblue\"]) # px.parallel_coordinates(df_parallel,)\n"
   ]
  },
  {
   "cell_type": "code",
   "execution_count": null,
   "metadata": {},
   "outputs": [],
   "source": [
    "df_melted = df_parallel.melt(id_vars=['target'])\n",
    "sns.boxplot(data = df_melted[df_melted['variable']<=10],x='variable',y='value',hue='target')"
   ]
  },
  {
   "cell_type": "code",
   "execution_count": null,
   "metadata": {},
   "outputs": [],
   "source": [
    "sns.pairplot(df_parallel,hue='target',height=1)"
   ]
  },
  {
   "cell_type": "code",
   "execution_count": null,
   "metadata": {},
   "outputs": [],
   "source": [
    "df_TSNE = pd.DataFrame(TSNE(n_components=2, learning_rate='auto', init='random').fit_transform(df_parallel[df_parallel.columns[0:-1]]))\n",
    "df_TSNE = pd.concat([df_TSNE,df_parallel['target']],axis=1)\n",
    "fig4=sns.pairplot(df_TSNE[(df_TSNE['target']!='3')],hue='target',height=4)\n",
    "# fig4._legend.remove()\n",
    "# handles = fig4._legend_data.values()\n",
    "# labels = case_scheme\n",
    "# fig4.fig.legend(handles=handles, labels=labels, loc='lower center', ncol=3,title='Categorias')\n",
    "# fig4.fig.subplots_adjust(top=0.95, bottom=0.15)\n",
    "# fig4.fig.suptitle('Dataset transformado por T-SNE e classificado pelo Label conhecido',fontsize=15)"
   ]
  },
  {
   "cell_type": "code",
   "execution_count": null,
   "metadata": {},
   "outputs": [],
   "source": [
    "df_TSNE['target'].value_counts()"
   ]
  }
 ],
 "metadata": {
  "interpreter": {
   "hash": "570feb405e2e27c949193ac68f46852414290d515b0ba6e5d90d076ed2284471"
  },
  "kernelspec": {
   "display_name": "Python 3.8.10 64-bit",
   "language": "python",
   "name": "python3"
  },
  "language_info": {
   "codemirror_mode": {
    "name": "ipython",
    "version": 3
   },
   "file_extension": ".py",
   "mimetype": "text/x-python",
   "name": "python",
   "nbconvert_exporter": "python",
   "pygments_lexer": "ipython3",
   "version": "3.8.10"
  },
  "orig_nbformat": 4
 },
 "nbformat": 4,
 "nbformat_minor": 2
}
